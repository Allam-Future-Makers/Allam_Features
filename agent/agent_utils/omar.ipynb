{
 "cells": [
  {
   "cell_type": "code",
   "execution_count": 9,
   "metadata": {},
   "outputs": [],
   "source": [
    "from langchain_ibm import WatsonxLLM\n",
    "from langchain_core.prompts import PromptTemplate\n",
    "from langchain_core.output_parsers import JsonOutputParser\n",
    "\n",
    "prompt = PromptTemplate(template=\n",
    "\"\"\"من فضلك صحّح الأخطاء الإملائية والنحوية في النصوص العربية التالية. ركّز على الأخطاء في التوافق بين الجنسين، التوافق في العدد، تصريف الأفعال، استخدام حروف الجر، الإملاء وعلامات التشكيل، وأخطاء التعريف. إليك تفصيل لأنواع الأخطاء مع أمثلة توضيحية:\n",
    "\n",
    "صيغة الإخراج المطلوبة:\n",
    "```json{{\n",
    "    \"error_type\": \"نوع الخطأ إذا وجد. أو (لا يوجد) إذا لم يوجد خطأ\",\n",
    "    \"original_sentence\": \"الجملة الأصلية\" ,\n",
    "    \"corrected_sentence\": \"الجملة بعد التصحيح\"\n",
    "    \"modifications\":{{\n",
    "        \"الكلمة الخطأ\": [تصحيحها السليم]\n",
    "    }}\n",
    "}}```\n",
    "\n",
    "أمثلة :\n",
    "\n",
    "```json{{\n",
    "        \"error_type\": \"خطأ في التوافق بين الجنسين\",\n",
    "        \"original_sentence\": \"الطفل جميلة ويحب اللعب في الحديقة.\",\n",
    "        \"corrected_sentence\": \"الطفل جميل ويحب اللعب في الحديقة.\",\n",
    "        \"modifications\": {{\n",
    "            \"جميلة\": \"جميل\"\n",
    "}}\n",
    "}}```,\n",
    "```json{{\n",
    "        \"error_type\": \"خطأ في التوافق في العدد + خطأ في الإملاء (التاء المربوطة بدلا من الهاء)\",\n",
    "        \"original_sentence\": \"المعلمتين يشرحون الدرس بطريقه ممتازة.\",\n",
    "        \"corrected_sentence\": \"المعلمتان تشرحان الدرس بطريقة ممتازة.\",\n",
    "        \"modifications\": {{\n",
    "            \"المعلمتين\": \"المعلمتان\",\n",
    "            \"يشرحون\": \"تشرحان\",\n",
    "            \"بطريقه\": \"بطريقة\"\n",
    "        }}\n",
    "    }}```,\n",
    "```json{{\n",
    "        \"error_type\": \"خطأ في استخدام حروف الجر\",\n",
    "        \"original_sentence\": \"هذه القصيده تحتوي على كثيراً من المعلومات.\",\n",
    "        \"corrected_sentence\": \"هذه القصيدة تحتوي على الكثير من المعلومات.\",\n",
    "        \"modifications\": {{\n",
    "            \"القصيده\": \"القصيدة\",\n",
    "            \"كثيراً من\": \"الكثير من\"\n",
    "}}\n",
    "}}```,\n",
    "```json{{\n",
    "        \"error_type\": \"خطأ في الإملاء وعلامات التشكيل\",\n",
    "        \"original_sentence\": \"الطائره تقلع الساعه التاسعه.\",\n",
    "        \"corrected_sentence\": \"الطائرة تقلع الساعة التاسعة.\",\n",
    "        \"modifications\": {{\n",
    "            \"الطائره\": \"الطائرة\",\n",
    "            \"الساعه\": \"الساعة\",\n",
    "            \"التاسعه\": \"التاسعة\"\n",
    "}}\n",
    "}}```,\n",
    "\n",
    "```json{{\n",
    "\"error_type\": \"خطأ في التوافق بين الجنسين + خطأ في التشكيل + خطأ في التذكير والتأنيث\"\n",
    "\"original_sentence\": \"الطبيبه مهتم جداً بمرضى وتعاملهم بلطف شديد.\",\n",
    "\"corrected_sentence\": \"الطبيبة مهتمة جداً بمرضاها وتعاملهم بلطف شديد\",\n",
    "\"modifications\": {{\n",
    "    \"الطبيبه\": \"الطبيبة\",\n",
    "    \"مهتم\": \"مهتمة\",\n",
    "    \"مرضى\": \"مرضاها\"}}\n",
    "}}```\n",
    ",\n",
    "```json{{\n",
    "\"error_type\": \"خطأ في تصريف الأفعال + خطأ في استخدام حرف الجر + خطأ في التذكير والتأنيث\",\n",
    "\"original_sentence\": \"المهندسات كان لديهم خطط ممتاز لتنفيذ المشروع لكن لم ينفذوه بسبب نقص في المعدات.\",\n",
    "\"corrected_sentence\": \"المهندسات كانت لديهن خطط ممتازة لتنفيذ المشروع لكن لم ينفذنه بسبب نقص المعدات\"\n",
    "\"modifications\": {{\n",
    "    \"كان\": \"كانت\",\n",
    "    \"لديهم\": \"لديهن\",\n",
    "    \"خطط ممتاز\": \"خطط ممتازة\",\n",
    "    \"لم ينفذوه\": \"لم ينفذنه\",\n",
    "    \"نقص في المعدات\": \"نقص المعدات\"}}\n",
    "}}```\n",
    ",\n",
    "```json{{\n",
    "\"error_type\": \"خطأ في التذكير والتأنيث + خطأ في التوافق في العدد + خطأ في التشكيل\",\n",
    "\"original_sentence\": \"السيارات القديمه يحتاج إلى صيانه دوريه لأن محركهم مستهلكة.\",\n",
    "\"corrected_sentence\": \"السيارات القديمة تحتاج إلى صيانة دورية لأن محركاتها مستَهلَكة\"\n",
    "\"modifications\": {{\n",
    "    \"القديمه\": \"القديمة\",\n",
    "    \"يحتاج\": \"تحتاج\",\n",
    "    \"صيانه\": \"صيانة\",\n",
    "    \"دوريه\" : \"دورية\"\n",
    "    \"محركهم\": \"محركاتها\",\n",
    "    \"مستهلكة\" : \"مستَهلكة\"\n",
    "}}\n",
    "}}```\n",
    "\n",
    "قم بدورك الآن.\n",
    "\n",
    "هذه هى الجملة المعطاة:\n",
    "{sentence}\n",
    "\n",
    "\"\"\", input_variables=['sentence'])\n",
    "\n",
    "\n",
    "model_params = {\n",
    "        \"max_new_tokens\": 1536,\n",
    "        \"min_new_tokens\": 0,\n",
    "        \"temperature\": 0.00,\n",
    "}\n",
    "\n",
    "watsonx_llm = WatsonxLLM(\n",
    "    project_id=\"89b6a9d9-cb31-48fd-b5a4-9ed49fdaab52\",\n",
    "    apikey=\"tBmyiiTXb1TYJQPrYHOCjiek8iIQGZoqqZreZwrpSRCM\",\n",
    "    model_id=\"sdaia/allam-1-13b-instruct\",\n",
    "    url=\"https://eu-de.ml.cloud.ibm.com\",\n",
    "    params=model_params,\n",
    ")\n",
    "\n",
    "chain = prompt | watsonx_llm | JsonOutputParser()\n",
    "query = \"الشبابه كانو يمارسون اللعبه في الحدائق و يقدمو المساعده إلى الاطفال المحتاجين بفرح كبير و بلامبالاه.\"\n",
    "#res = chain.invoke({\"sentence\":query})\n",
    "#res"
   ]
  },
  {
   "cell_type": "code",
   "execution_count": null,
   "metadata": {},
   "outputs": [
    {
     "data": {
      "text/plain": [
       "' \\n\\n```python\\nfrom datetime import datetime\\n\\ncurrent_date = datetime.now()\\nprint(current_date)\\n```\\n\\nفي هذا الكود، نقوم بإستيراد مكتبة `datetime` من مكتبة `datetime` في بايثون. ثم نستخدم الدالة `now()` للحصول على التاريخ والوقت الحاليين. بعد ذلك، نقوم بطباعة التاريخ الحالي باستخدام الدالة `print()`. '"
      ]
     },
     "execution_count": 11,
     "metadata": {},
     "output_type": "execute_result"
    }
   ],
   "source": [
    "watsonx_llm.invoke(\"أعطنى كود بايثون لمعرفة التاريخ الحالى و\")"
   ]
  },
  {
   "cell_type": "code",
   "execution_count": 21,
   "metadata": {},
   "outputs": [
    {
     "name": "stdout",
     "output_type": "stream",
     "text": [
      "2024-11-08 03:27:09.254735\n",
      "None\n"
     ]
    }
   ],
   "source": [
    "import re\n",
    "\n",
    "# Define the input string with the Python code\n",
    "input_string = '''\\n\\n```python\\nfrom datetime import datetime\\n\\ncurrent_date = datetime.now()\\nprint(current_date)\\n```\\n\\nفي هذا الكود، نقوم بإستيراد مكتبة `datetime` من مكتبة `datetime` في بايثون. ثم نستخدم الدالة `now()` للحصول على التاريخ والوقت الحاليين. بعد ذلك، نقوم بطباعة التاريخ الحالي باستخدام الدالة `print()`. '''\n",
    "\n",
    "# Define a regex pattern to extract Python code\n",
    "code_pattern = r'```python\\n(.*?)\\n```'\n",
    "\n",
    "# Use re.search to find the code block\n",
    "match = re.search(code_pattern, input_string, re.DOTALL)\n",
    "\n",
    "# If a match is found, print the extracted code\n",
    "if match:\n",
    "    extracted_code = match.group(1)\n",
    "    print(exec(extracted_code))\n",
    "else:\n",
    "    print(\"No Python code block found.\")\n"
   ]
  },
  {
   "cell_type": "code",
   "execution_count": null,
   "metadata": {},
   "outputs": [
    {
     "data": {
      "text/plain": [
       "'Today is Friday, 2024-11-08 and the current time is 03:29:45 AM'"
      ]
     },
     "execution_count": 22,
     "metadata": {},
     "output_type": "execute_result"
    }
   ],
   "source": [
    "from datetime import datetime\n",
    "formatted_time = datetime.now().strftime(\"Today is %A, %Y-%m-%d and the current time is %I:%M:%S %p\")\n",
    "formatted_time"
   ]
  },
  {
   "cell_type": "code",
   "execution_count": null,
   "metadata": {},
   "outputs": [],
   "source": [
    "response  =    \"OmarAction: to_msa: \"الطفل الصغير بيلعب:\n",
    "\n",
    "\n",
    "\n",
    "match = re.findall(\n",
    "                    r'Action: (to_MSA|irab|tashkeel|holy_quran|web_search|llm_knowledge): \"(.*?)\"',\n",
    "                    response,\n",
    "                )"
   ]
  },
  {
   "cell_type": "code",
   "execution_count": null,
   "metadata": {},
   "outputs": [],
   "source": [
    "from gemini"
   ]
  }
 ],
 "metadata": {
  "kernelspec": {
   "display_name": "langchain",
   "language": "python",
   "name": "python3"
  },
  "language_info": {
   "codemirror_mode": {
    "name": "ipython",
    "version": 3
   },
   "file_extension": ".py",
   "mimetype": "text/x-python",
   "name": "python",
   "nbconvert_exporter": "python",
   "pygments_lexer": "ipython3",
   "version": "3.10.15"
  }
 },
 "nbformat": 4,
 "nbformat_minor": 2
}
